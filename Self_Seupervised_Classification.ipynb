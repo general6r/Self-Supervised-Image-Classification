{
  "cells": [
    {
      "cell_type": "markdown",
      "metadata": {
        "id": "IWMWW8Ab_345"
      },
      "source": [
        "# Self Supervised Image Classification\n",
        "\n",
        "---\n",
        "\n"
      ]
    },
    {
      "cell_type": "markdown",
      "metadata": {
        "id": "OiPiOs-YEThw"
      },
      "source": [
        "## Google Colab Setup\n",
        "The following part only applies if you are using Colab. If you're not using Colab, feel free to delete this."
      ]
    },
    {
      "cell_type": "code",
      "source": [
        "from google.colab import drive\n",
        "drive.mount('/content/drive')"
      ],
      "metadata": {
        "id": "MgboXazGExn1"
      },
      "execution_count": null,
      "outputs": []
    },
    {
      "cell_type": "code",
      "execution_count": null,
      "metadata": {
        "id": "XpNsPHZc_879"
      },
      "outputs": [],
      "source": [
        "import os\n",
        "datadir = \"/content/drive/MyDrive/Colab Notebooks/Intro to DL Course/HW3/part1\" # Add path to your code here\n",
        "if not os.path.exists(datadir):\n",
        "  !ln -s \"\" $datadir\n",
        "os.chdir(datadir)\n",
        "!pwd"
      ]
    },
    {
      "cell_type": "markdown",
      "metadata": {
        "id": "Um5DJvBwb6xT"
      },
      "source": [
        "## Data Setup\n",
        "\n",
        "To begin this project, you'll need to implement a PyTorch data class to load the images and labels. For this section, I recommend you look through the [PyTorch data loader tutorial](https://pytorch.org/tutorials/beginner/basics/data_tutorial.html) before getting started. The good news for us is that PyTorch already implements a [CIFAR10 dataloader class](https://pytorch.org/vision/main/generated/torchvision.datasets.CIFAR10.html). Since this already exists, all we need to do is modify the `__getitem__` method to handle the rotation. What we want to do is rotate each image to be in the set $\\ \\theta\\ \\in {0,90,180,270}$ where $\\theta$ is the angle of rotation. In addition, we need a classification label for each angle. We'll choose class labels of $\\{0,1,2,3\\}$ to denote each rotation in the previous set (labels in order).\n",
        "\n"
      ]
    },
    {
      "cell_type": "code",
      "source": [
        "import warnings\n",
        "warnings.filterwarnings(\"ignore\")"
      ],
      "metadata": {
        "id": "TJHpeB2ThI2B"
      },
      "execution_count": 3,
      "outputs": []
    },
    {
      "cell_type": "code",
      "execution_count": 4,
      "metadata": {
        "id": "oHkeNUOKiFbP"
      },
      "outputs": [],
      "source": [
        "# Load the needed packages\n",
        "import torch\n",
        "import torchvision\n",
        "import torchvision.transforms as transforms\n",
        "import numpy as np\n",
        "import random"
      ]
    },
    {
      "cell_type": "code",
      "execution_count": 5,
      "metadata": {
        "id": "zgptULxlEThy"
      },
      "outputs": [],
      "source": [
        "from torchvision.transforms import v2\n",
        "\n",
        "def rotate_img(img, rot): # rot is the degree of rotation\n",
        "    # Rotate the image according to the degree of the rotation specified and return a rotated version of the image\n",
        "    rotated_img = transforms.functional.rotate(img, rot)\n",
        "    return rotated_img\n",
        "\n",
        "\n",
        "class RotatedCIFAR10(torchvision.datasets.CIFAR10): # Inheriting from the CIFAR10 class\n",
        "\n",
        "    def __init__(self, root, train, download, transform) -> None:\n",
        "        super().__init__(root=root, train=train, download=download, transform=transform) # this is calling the superclass initialization function\n",
        "        # You call see the constructor by browsing the PyTorch library and clicking \"source\"\n",
        "\n",
        "        self.rotations = [0, 90, 180, 270] # Define a list of rotation degrees\n",
        "        self.rotation_to_label = {0: 0, 90: 1, 180: 2, 270: 3} # Mapping from rotation to label\n",
        "\n",
        "\n",
        "    def __len__(self):\n",
        "        return len(self.data)\n",
        "\n",
        "    def __getitem__(self, index: int):\n",
        "        image, label = super().__getitem__(index) # Label is the class label(call the paret class to get the image and label)\n",
        "        '''\n",
        "        In this part we need a code that randomly selects a rotation.\n",
        "        Then we will call the rotation function to get the rotated images\n",
        "        '''\n",
        "        # Randomly select a rotation\n",
        "        rot = float(np.random.choice(self.rotations))\n",
        "        # Rotate the image\n",
        "        rotated_img = rotate_img(image, rot)\n",
        "        # Get the rotation label\n",
        "        chosen_rotation_label = self.rotation_to_label[rot]\n",
        "\n",
        "#         # If a transform is specified, apply it on the rotated img\n",
        "#         if self.transform is not None:\n",
        "#             rotated_img = self.transform(rotated_img)\n",
        "\n",
        "        chosen_rotation_label = torch.tensor(chosen_rotation_label).long()\n",
        "        return image, rotated_img, chosen_rotation_label, torch.tensor(label).long()"
      ]
    },
    {
      "cell_type": "code",
      "execution_count": 6,
      "metadata": {
        "id": "CCBSpNWpb8uw"
      },
      "outputs": [],
      "source": [
        "# We're going to be using ResNet18 for this project.\n",
        "# See here https://pytorch.org/vision/0.9/_modules/torchvision/models/resnet.html#resnet18\n",
        "\n",
        "transform_train = transforms.Compose([\n",
        "    transforms.RandomCrop(32, padding=4),\n",
        "    transforms.RandomHorizontalFlip(),\n",
        "    transforms.ToTensor(),\n",
        "    transforms.Normalize((0.4914, 0.4822, 0.4465), (0.2023, 0.1994, 0.2010)),\n",
        "])\n",
        "\n",
        "transform_test = transforms.Compose([\n",
        "    transforms.ToTensor(),\n",
        "    transforms.Normalize((0.4914, 0.4822, 0.4465), (0.2023, 0.1994, 0.2010)),\n",
        "])"
      ]
    },
    {
      "cell_type": "code",
      "execution_count": null,
      "metadata": {
        "id": "pis8TGoQEThz"
      },
      "outputs": [],
      "source": [
        "batch_size = 128\n",
        "\n",
        "training_dataset = RotatedCIFAR10(root='Set path to data', train=True,\n",
        "                                        download=True, transform=transform_train)\n",
        "training_dataloader = torch.utils.data.DataLoader(training_dataset, batch_size=batch_size,\n",
        "                                          shuffle=True, num_workers=2)\n",
        "test_dataset = RotatedCIFAR10(root='Set path to data', train=False,\n",
        "                                       download=True, transform=transform_test)\n",
        "test_dataloader = torch.utils.data.DataLoader(test_dataset, batch_size=batch_size,\n",
        "                                         shuffle=False, num_workers=2)"
      ]
    },
    {
      "cell_type": "markdown",
      "metadata": {
        "id": "dOCWMyGhVOJB"
      },
      "source": [
        "### Visualize loading to make sure you are loading them in properly"
      ]
    },
    {
      "cell_type": "code",
      "execution_count": null,
      "metadata": {
        "id": "A9wN4BJWVMzB"
      },
      "outputs": [],
      "source": [
        "import matplotlib.pyplot as plt\n",
        "\n",
        "classes = ('plane', 'car', 'bird', 'cat', # CIFAR10 classes\n",
        "           'deer', 'dog', 'frog', 'horse', 'ship', 'truck')\n",
        "\n",
        "rot_classes = ('0', '90', '180', '270') # classes of rotation being considered\n",
        "\n",
        "def data_vis(img):\n",
        "    # This code is reversing the normalization we performed above.\n",
        "    img = transforms.Normalize((0, 0, 0), (1/0.2023, 1/0.1994, 1/0.2010))(img)\n",
        "    img = transforms.Normalize((-0.4914, -0.4822, -0.4465), (1, 1, 1))(img)\n",
        "    npimg = img.numpy()\n",
        "    plt.imshow(np.transpose(npimg, (1, 2, 0)))\n",
        "    plt.show()\n",
        "dataiter = iter(training_dataloader) # Create dataloader iterator\n",
        "images, rotated_images, rotation_labels, labels = next(dataiter) # Load a batch from the dataloader\n",
        "\n",
        "# Displaying the images and labels\n",
        "print(\"4\")\n",
        "img_grid = data_vis(torchvision.utils.make_grid(images[:4], padding=0)) # Display the first four images and labels\n",
        "print('Class labels: ', ' '.join(f'{classes[labels[j]]:5s}' for j in range(4)))\n",
        "img_grid = data_vis(torchvision.utils.make_grid(rotated_images[:4], padding=0))\n",
        "print('Labels of the rotation: ', ' '.join(f'{rot_classes[rotation_labels[j]]:5s}' for j in range(4)))"
      ]
    },
    {
      "cell_type": "markdown",
      "metadata": {
        "id": "unCucbHexG4W"
      },
      "source": [
        "# Code for evaluating your network"
      ]
    },
    {
      "cell_type": "code",
      "execution_count": 9,
      "metadata": {
        "id": "pptQRpqK0rOl"
      },
      "outputs": [],
      "source": [
        "import time\n",
        "\n",
        "def run_evaluation(net, test_dataloader, criterion, task):\n",
        "    correct = 0\n",
        "    total = 0\n",
        "    avg_test_loss = 0.0\n",
        "    with torch.no_grad(): # We can disable the computation graph storage here since we aren't calculating the gradient at test time\n",
        "        for images, rotated_images, rotation_labels, classification_labels in test_dataloader:\n",
        "            if task == 'rotation':\n",
        "              images, labels = rotated_images.to(device), rotation_labels.to(device)\n",
        "            elif task == 'classification':\n",
        "              images, labels = images.to(device), classification_labels.to(device)\n",
        "            # In this section you'll need to run the images through the network and pick the class with max response from classifier\n",
        "            # loss\n",
        "\n",
        "            # Codes added here:\n",
        "            # Forward pass\n",
        "            outputs = net(images)\n",
        "\n",
        "            # calculate the batch loss\n",
        "            loss = criterion(outputs, labels)\n",
        "            #\n",
        "            avg_test_loss += criterion(outputs, labels)  / len(test_dataloader)\n",
        "\n",
        "            # Codes added here:\n",
        "            # Convert output probabilities to predicted class\n",
        "            _, predicted = torch.max(outputs.data, 1)\n",
        "            total +=labels.size(0)\n",
        "            correct += (predicted == labels).sum().item()\n",
        "            #\n",
        "\n",
        "    print('TESTING:')\n",
        "    print(f'Test set accuracy: {100 * correct / total:.2f} %')\n",
        "    print(f'Average test loss: {avg_test_loss:.3f}')"
      ]
    },
    {
      "cell_type": "code",
      "execution_count": 10,
      "metadata": {
        "id": "hf698c16A9k5"
      },
      "outputs": [],
      "source": [
        "def decay_learning_rate(optimizer, epoch, init_lr, decay_epochs=30):\n",
        "    \"\"\"Decay learning rate by factor of 10 every 30 epochs\"\"\"\n",
        "    lr = init_lr * (0.1 ** (epoch // decay_epochs))\n",
        "    for param_group in optimizer.param_groups:\n",
        "        param_group['lr'] = lr"
      ]
    },
    {
      "cell_type": "markdown",
      "metadata": {
        "id": "3lYdnb1Wsta_"
      },
      "source": [
        "## Training for rotation prediction\n",
        "\n",
        "In this part of the assignment, you'll train a Resnet18 for the rotation prediction task. The network will take in one of your rotated images and predict the label corresponding to that rotation."
      ]
    },
    {
      "cell_type": "code",
      "execution_count": null,
      "metadata": {
        "id": "knAiwdURvBHk"
      },
      "outputs": [],
      "source": [
        "device = 'cuda' if torch.cuda.is_available() else 'cpu'  # This tells PyTorch to use CUDA if it is available\n",
        "device"
      ]
    },
    {
      "cell_type": "code",
      "execution_count": 13,
      "metadata": {
        "id": "235MEIUgsv65"
      },
      "outputs": [],
      "source": [
        "import torch.nn as nn\n",
        "import torch.nn.functional as F\n",
        "from torchvision.models import resnet18\n",
        "\n",
        "net = resnet18(num_classes=4) # Pytorch lets you specify the number of classes in this way.\n",
        "# However, if it didn't you would just modify the network definition to add a linear layer\n",
        "# PyTorch does this by: self.fc = nn.Linear(512 * block.expansion, num_classes)\n",
        "net = net.to(device)"
      ]
    },
    {
      "cell_type": "code",
      "execution_count": 14,
      "metadata": {
        "id": "Vuhiw0ZoszAd"
      },
      "outputs": [],
      "source": [
        "import torch.optim as optim\n",
        "criterion = nn.CrossEntropyLoss()\n",
        "optimizer = optim.Adam(net.parameters(), lr= 0.001)\n",
        "\n",
        "# In this section, you'll need to set your loss function (criterion) and optimizer\n",
        "# See here (https://pytorch.org/docs/stable/optim.html) for how to use an optimizer\n",
        "# You'll want to use Cross Entropy Loss as your loss"
      ]
    },
    {
      "cell_type": "code",
      "execution_count": 15,
      "metadata": {
        "id": "WleH-YBgs0rq"
      },
      "outputs": [],
      "source": [
        "def train(net, criterion, optimizer, num_epochs, decay_epochs, init_lr, task):\n",
        "    for epoch in range(num_epochs):\n",
        "        print(f\"Epoch number: {epoch + 1}\")\n",
        "\n",
        "        curr_accum_loss = 0.0\n",
        "        curr_accum_correct = 0.0\n",
        "        curr_accum_total = 0.0\n",
        "        start_time = time.time()\n",
        "\n",
        "        net.train()\n",
        "\n",
        "        for i, (images, rotated_images, rotation_label, classification_labels) in enumerate(training_dataloader, 0): # this just returns an iteration count from the dataloader\n",
        "            decay_learning_rate(optimizer, epoch, init_lr, decay_epochs) # Decay learning rate\n",
        "            if len(rotated_images) != 128:\n",
        "              pass # This is for the last minibatch when the data is not a factor of the bach size\n",
        "            else:\n",
        "              # You'll need to implement the forward and backward functions and call the optimizer\n",
        "              # Get the prediction results from the network and store them in the variable below\n",
        "\n",
        "              if task == 'rotation':\n",
        "                  images, labels = rotated_images.to(device), rotation_labels.to(device)\n",
        "              elif task == 'classification':\n",
        "                  images, labels = images.to(device), classification_labels.to(device)\n",
        "              else:\n",
        "                  raise ValueError(\"Unknown task\")\n",
        "\n",
        "              optimizer.zero_grad()\n",
        "              predictions = net(images)\n",
        "              loss = criterion(predictions, labels)\n",
        "              loss.backward()\n",
        "              optimizer.step()\n",
        "\n",
        "              print_freq = 10\n",
        "              curr_accum_loss += loss.item()\n",
        "\n",
        "              _, predicted = torch.max(predictions.data, 1)\n",
        "              curr_accum_total += labels.size(0)\n",
        "              curr_accum_correct += (predicted == labels).sum().item()\n",
        "\n",
        "              # calc acc\n",
        "              curr_accum_total += labels.size(0) # Add the number of predictions to the total (This could be different if your last minibatch is less than batchsize)\n",
        "              curr_accum_correct += (predicted == labels).sum().item() # Count how many you got right\n",
        "\n",
        "              if i % print_freq == (print_freq - 1):    # print some statistics\n",
        "                  print(f'[{epoch + 1}, {i + 1:5d}] loss: {curr_accum_loss / print_freq:.3f} acc: {100*curr_accum_correct / curr_accum_total:.2f} time: {time.time() - start_time:.2f}')\n",
        "                  curr_accum_loss, curr_accum_correct, curr_accum_total = 0.0, 0.0, 0.0\n",
        "                  start_time = time.time()\n",
        "\n",
        "        # You'll to run the run_evaluation() function after each epoch.un the run_evaluation() function after each epoch\n",
        "        # Remember to set the model to evaluation mode\n",
        "        # Codes added here:\n",
        "        net.eval()\n",
        "        run_evaluation(net, test_dataloader, criterion, task)\n",
        "        #\n",
        "\n",
        "    print('Finished Training')"
      ]
    },
    {
      "cell_type": "code",
      "execution_count": null,
      "metadata": {
        "id": "2u4AsfAKtaQS"
      },
      "outputs": [],
      "source": [
        "train(net, criterion, optimizer, num_epochs=45, decay_epochs=15, init_lr=0.01, task='rotation')"
      ]
    },
    {
      "cell_type": "code",
      "source": [
        "# Making a new folder in the directory and then saving the model\n",
        "!mkdir -p model-weights\n",
        "torch.save(net.state_dict(), \"model-weights/model-1-weights\")"
      ],
      "metadata": {
        "id": "IsgUO-gUhWqo"
      },
      "execution_count": null,
      "outputs": []
    },
    {
      "cell_type": "markdown",
      "metadata": {
        "id": "PLLMRTS9rTnk"
      },
      "source": [
        "## Fine-tuning the pre-trained model\n",
        "\n",
        "### In this section we'll be loading the pre-trained ResNet18 model from the PyTorch library and fine-tune it on the image classification task. However, we're only going to fine-tune part of the model. Specifically, we'll be freezing all the layers except the layer4 block and the fc layer."
      ]
    },
    {
      "cell_type": "code",
      "execution_count": null,
      "metadata": {
        "id": "S4nX4ExlrymI"
      },
      "outputs": [],
      "source": [
        "import torch.nn as nn\n",
        "import torch.nn.functional as F\n",
        "from torchvision.models import resnet18\n",
        "\n",
        "# Load the pre-trained ResNet18 model\n",
        "net = resnet18(pretrained= True)\n",
        "\n",
        "# Adding a fc layer with 10 classes at the end\n",
        "num_classes = 10 # This is 10 because task is \"classification\"\n",
        "net.fc = nn.Linear(net.fc.in_features, num_classes)\n"
      ]
    },
    {
      "cell_type": "code",
      "source": [
        "# We need to write code here to freeze all layers except the layer4 block and the fc layer.\n",
        "for param in net.parameters():\n",
        "    param.requires_grad = False\n",
        "\n",
        "for param in net.layer4.parameters():\n",
        "    param.requires_grad = True\n",
        "\n",
        "for param in net.fc.parameters():\n",
        "    param.requires_grad = True"
      ],
      "metadata": {
        "id": "km463LAsksPy"
      },
      "execution_count": null,
      "outputs": []
    },
    {
      "cell_type": "code",
      "execution_count": null,
      "metadata": {
        "id": "9T5DX0efr4fh"
      },
      "outputs": [],
      "source": [
        "# Here we'll list the parameters that are being trained to make sure we did the above correctly\n",
        "parameter_to_train = net.parameters()\n",
        "print(\"Parameters that will be trained:\")\n",
        "parameter_to_train = []\n",
        "for name,param in net.named_parameters():\n",
        "    if param.requires_grad == True:\n",
        "        parameter_to_train.append(param)\n",
        "        print(\"\\t\",name)"
      ]
    },
    {
      "cell_type": "code",
      "execution_count": null,
      "metadata": {
        "id": "xb032dG700ph"
      },
      "outputs": [],
      "source": [
        "# Again, set the loss function and optimizer. Remember, your optimizer only will update the trainable parameters.\n",
        "criterion = nn.CrossEntropyLoss()\n",
        "optimizer = optim.Adam(parameter_to_train, lr= 0.001)"
      ]
    },
    {
      "cell_type": "code",
      "execution_count": null,
      "metadata": {
        "id": "3vLSwOo6sBjl"
      },
      "outputs": [],
      "source": [
        "train(net, criterion, optimizer, num_epochs=2, decay_epochs=10, init_lr=0.01, task='classification')"
      ]
    },
    {
      "cell_type": "code",
      "source": [
        "# Saving the model\n",
        "torch.save(net.state_dict(), \"model-weights/model-2-weights\")"
      ],
      "metadata": {
        "id": "2TJsRr0vil5f"
      },
      "execution_count": null,
      "outputs": []
    },
    {
      "cell_type": "markdown",
      "metadata": {
        "id": "ghPNhcJBrcNj"
      },
      "source": [
        "# Fine-tuning a randomly initialized model\n",
        "\n",
        "### In this part, we need to randomly initialize a ResNet18 model. Then, we'll train that model on the classification task."
      ]
    },
    {
      "cell_type": "code",
      "execution_count": null,
      "metadata": {
        "id": "2RfXAh9vxXRB"
      },
      "outputs": [],
      "source": [
        "import torch.nn as nn\n",
        "import torch.nn.functional as F\n",
        "from torchvision.models import resnet18\n",
        "\n",
        "# Load a randomly initialized ResNet18 network\n",
        "net = resnet18(pretrained=False)\n",
        "# Adding a fc layer with 10 classes at the end\n",
        "num_classes = 10 # This is 10\n",
        "net.fc = nn.Linear(net.fc.in_features, num_classes)"
      ]
    },
    {
      "cell_type": "code",
      "execution_count": null,
      "metadata": {
        "id": "fpx-SYAizt4p"
      },
      "outputs": [],
      "source": [
        "# You'll need to freeze all layers in the network except the layer4 block and the fc layer (only these should be trainable)\n",
        "# Hint: Look up the \"requires_grad\" variable\n",
        "for param in net.parameters():\n",
        "    param.requires_grad = False\n",
        "\n",
        "for param in net.layer4.parameters():\n",
        "    param.requires_grad = True\n",
        "\n",
        "for param in net.fc.parameters():\n",
        "    param.requires_grad = True"
      ]
    },
    {
      "cell_type": "code",
      "execution_count": null,
      "metadata": {
        "id": "BUFWizbHxgm2"
      },
      "outputs": [],
      "source": [
        "# Print all the trainable parameters\n",
        "parameter_to_train = net.parameters()\n",
        "print(\"Parameters that will be trained:\")\n",
        "parameter_to_train = []\n",
        "for name,param in net.named_parameters():\n",
        "    if param.requires_grad == True:\n",
        "        parameter_to_train.append(param)\n",
        "        print(\"\\t\",name)"
      ]
    },
    {
      "cell_type": "code",
      "execution_count": null,
      "metadata": {
        "id": "BxFrGj091AN_"
      },
      "outputs": [],
      "source": [
        "# Again, set the loss function and optimizer. Remember, your optimizer only will update the trainable parameters.\n",
        "criterion = nn.CrossEntropyLoss()\n",
        "optimizer = optim.Adam(parameter_to_train, lr= 0.001)"
      ]
    },
    {
      "cell_type": "code",
      "execution_count": null,
      "metadata": {
        "id": "GzRVy0MZxpoL"
      },
      "outputs": [],
      "source": [
        "train(net, criterion, optimizer, num_epochs=20, decay_epochs=10, init_lr=0.01, task='classification')"
      ]
    },
    {
      "cell_type": "code",
      "source": [
        "# Saving the model\n",
        "torch.save(net.state_dict(), \"model-weights/model-3-weights\")"
      ],
      "metadata": {
        "id": "naQqvnicjCmc"
      },
      "execution_count": null,
      "outputs": []
    },
    {
      "cell_type": "markdown",
      "metadata": {
        "id": "WcN54tcNN15U"
      },
      "source": [
        "# Supervised training\n",
        "\n",
        "### In this part, you'll load the pre-trained ResNet18 and fine-tune the whole model on the CIFAR10 classification task."
      ]
    },
    {
      "cell_type": "code",
      "execution_count": null,
      "metadata": {
        "id": "9xR9h_S1N6Xi"
      },
      "outputs": [],
      "source": [
        "import torch.nn as nn\n",
        "import torch.nn.functional as F\n",
        "from torchvision.models import resnet18\n",
        "\n",
        "# Load the ResNet18 model (pretrained)\n",
        "net = resnet18(pretrained= True)\n",
        "\n",
        "# Adding a fc layer with 10 classes at the end of the model\n",
        "num_classes = 10\n",
        "net.fc = nn.Linear(net.fc.in_features, num_classes)"
      ]
    },
    {
      "cell_type": "code",
      "execution_count": null,
      "metadata": {
        "id": "gGozc2cM0ADw"
      },
      "outputs": [],
      "source": [
        "# Again, set the loss function and optimizer.\n",
        "criterion = nn.CrossEntropyLoss()\n",
        "optimizer = optim.Adam(net.parameters(), lr= 0.001)"
      ]
    },
    {
      "cell_type": "code",
      "execution_count": null,
      "metadata": {
        "id": "JGWW7gzCz_Bu"
      },
      "outputs": [],
      "source": [
        "train(net, criterion, optimizer, num_epochs=20, decay_epochs=10, init_lr=0.01, task='classification')"
      ]
    },
    {
      "cell_type": "code",
      "source": [
        "# Saving the model\n",
        "torch.save(net.state_dict(), \"model-weights/model-4-weights\")"
      ],
      "metadata": {
        "id": "pTMnc_pSjFhm"
      },
      "execution_count": null,
      "outputs": []
    },
    {
      "cell_type": "markdown",
      "metadata": {
        "id": "xjVTp9jhefTi"
      },
      "source": [
        "# Supervised training the randomly initialized model\n",
        "\n",
        "### Below, you'll randomly initialize a ResNet18 and train the whole model on the classification task."
      ]
    },
    {
      "cell_type": "code",
      "source": [
        "# Randomly initialize a ResNet18 and train the whole model on the classification task\n",
        "\n",
        "net = resnet18(pretrained=False)\n",
        "\n",
        "# Adding a fc layer with 10 classes at the end of the model\n",
        "num_classes = 10\n",
        "net.fc = nn.Linear(net.fc.in_features, num_classes)\n",
        "# Again, set the loss function and optimizer.\n",
        "criterion = nn.CrossEntropyLoss()\n",
        "optimizer = optim.Adam(net.parameters(), lr= 0.001)\n",
        "train(net, criterion, optimizer, num_epochs=20, decay_epochs=10, init_lr=0.01, task='classification')"
      ],
      "metadata": {
        "id": "rrxgXrvwr9HL"
      },
      "execution_count": null,
      "outputs": []
    },
    {
      "cell_type": "code",
      "execution_count": null,
      "metadata": {
        "id": "uEjy8TBieeLK"
      },
      "outputs": [],
      "source": [
        "import torch.nn as nn\n",
        "import torch.nn.functional as F\n",
        "\n",
        "from torchvision.models import resnet18\n",
        "\n",
        "# Randomly initialize the ResNet18 model\n",
        "net = resnet18(pretrained= False)\n",
        "\n",
        "# Adding a fc layer withh 10 classes at the end of the model\n",
        "num_classes = 10\n",
        "net.fc = nn.Linear(net.fc.in_features, num_classes)"
      ]
    },
    {
      "cell_type": "code",
      "execution_count": null,
      "metadata": {
        "id": "jEY90pK_0ZAm"
      },
      "outputs": [],
      "source": [
        "# Again, set the loss function and optimizer.\n",
        "criterion = nn.CrossEntropyLoss()\n",
        "optimizer = optim.Adam(net.parameters(), lr= 0.001)"
      ]
    },
    {
      "cell_type": "code",
      "execution_count": null,
      "metadata": {
        "id": "lMDwelhY0auO"
      },
      "outputs": [],
      "source": [
        "train(net, criterion, optimizer, num_epochs=20, decay_epochs=10, init_lr=0.01, task='classification')"
      ]
    },
    {
      "cell_type": "code",
      "source": [
        "# Saving the model\n",
        "torch.save(net.state_dict(), \"model-weights/model-5-weights\")"
      ],
      "metadata": {
        "id": "k4tmhGmDjHwU"
      },
      "execution_count": null,
      "outputs": []
    }
  ],
  "metadata": {
    "colab": {
      "provenance": []
    },
    "kernelspec": {
      "display_name": "Python 3",
      "name": "python3"
    },
    "language_info": {
      "codemirror_mode": {
        "name": "ipython",
        "version": 3
      },
      "file_extension": ".py",
      "mimetype": "text/x-python",
      "name": "python",
      "nbconvert_exporter": "python",
      "pygments_lexer": "ipython3",
      "version": "3.10.9"
    },
    "accelerator": "TPU"
  },
  "nbformat": 4,
  "nbformat_minor": 0
}