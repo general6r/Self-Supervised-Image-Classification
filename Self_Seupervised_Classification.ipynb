{
  "cells": [
    {
      "cell_type": "markdown",
      "metadata": {
        "id": "IWMWW8Ab_345"
      },
      "source": [
        "# Self Supervised Image Classification\n",
        "\n",
        "---\n",
        "\n"
      ]
    },
    {
      "cell_type": "markdown",
      "metadata": {
        "id": "OiPiOs-YEThw"
      },
      "source": [
        "## Google Colab Setup\n",
        "The following part only applies if you are using Colab. If you're not using Colab, feel free to delete this."
      ]
    },
    {
      "cell_type": "code",
      "source": [
        "from google.colab import drive\n",
        "drive.mount('/content/drive')"
      ],
      "metadata": {
        "colab": {
          "base_uri": "https://localhost:8080/"
        },
        "id": "MgboXazGExn1",
        "outputId": "a0417a0e-089e-4360-a94a-7ee366ab4604"
      },
      "execution_count": 1,
      "outputs": [
        {
          "output_type": "stream",
          "name": "stdout",
          "text": [
            "Mounted at /content/drive\n"
          ]
        }
      ]
    },
    {
      "cell_type": "code",
      "execution_count": null,
      "metadata": {
        "id": "XpNsPHZc_879",
        "colab": {
          "base_uri": "https://localhost:8080/"
        },
        "outputId": "b2efc108-a9a4-4bef-abcc-72ddef0b50ae"
      },
      "outputs": [
        {
          "output_type": "stream",
          "name": "stdout",
          "text": [
            "/content/drive/MyDrive/Colab Notebooks/Intro to DL Course/HW3/part1\n"
          ]
        }
      ],
      "source": [
        "import os\n",
        "datadir = \"/path/to/your/code\" # Add path to your code here\n",
        "if not os.path.exists(datadir):\n",
        "  !ln -s \"\" $datadir\n",
        "os.chdir(datadir)\n",
        "!pwd"
      ]
    },
    {
      "cell_type": "markdown",
      "metadata": {
        "id": "Um5DJvBwb6xT"
      },
      "source": [
        "## Data Setup\n",
        "\n",
        "To begin this project, you'll need to implement a PyTorch data class to load the images and labels. For this section, I recommend you look through the [PyTorch data loader tutorial](https://pytorch.org/tutorials/beginner/basics/data_tutorial.html) before getting started. The good news for us is that PyTorch already implements a [CIFAR10 dataloader class](https://pytorch.org/vision/main/generated/torchvision.datasets.CIFAR10.html). Since this already exists, all we need to do is modify the `__getitem__` method to handle the rotation. What we want to do is rotate each image to be in the set $\\ \\theta\\ \\in {0,90,180,270}$ where $\\theta$ is the angle of rotation. In addition, we need a classification label for each angle. We'll choose class labels of $\\{0,1,2,3\\}$ to denote each rotation in the previous set (labels in order).\n",
        "\n"
      ]
    },
    {
      "cell_type": "code",
      "source": [
        "import warnings\n",
        "warnings.filterwarnings(\"ignore\")"
      ],
      "metadata": {
        "id": "TJHpeB2ThI2B"
      },
      "execution_count": null,
      "outputs": []
    },
    {
      "cell_type": "code",
      "execution_count": null,
      "metadata": {
        "id": "oHkeNUOKiFbP"
      },
      "outputs": [],
      "source": [
        "# Load the needed packages\n",
        "import torch\n",
        "import torchvision\n",
        "import torchvision.transforms as transforms\n",
        "import numpy as np\n",
        "import random"
      ]
    },
    {
      "cell_type": "code",
      "execution_count": null,
      "metadata": {
        "id": "zgptULxlEThy"
      },
      "outputs": [],
      "source": [
        "from torchvision.transforms import v2\n",
        "\n",
        "def rotate_img(img, rot): # rot is the degree of rotation\n",
        "    # Rotate the image according to the degree of the rotation specified and return a rotated version of the image\n",
        "    rotated_img = transforms.functional.rotate(img, rot)\n",
        "    return rotated_img\n",
        "\n",
        "\n",
        "class RotatedCIFAR10(torchvision.datasets.CIFAR10): # Inheriting from the CIFAR10 class\n",
        "\n",
        "    def __init__(self, root, train, download, transform) -> None:\n",
        "        super().__init__(root=root, train=train, download=download, transform=transform) # this is calling the superclass initialization function\n",
        "        # You call see the constructor by browsing the PyTorch library and clicking \"source\"\n",
        "\n",
        "        self.rotations = [0, 90, 180, 270] # Define a list of rotation degrees\n",
        "        self.rotation_to_label = {0: 0, 90: 1, 180: 2, 270: 3} # Mapping from rotation to label\n",
        "\n",
        "\n",
        "    def __len__(self):\n",
        "        return len(self.data)\n",
        "\n",
        "    def __getitem__(self, index: int):\n",
        "        image, label = super().__getitem__(index) # Label is the class label(call the paret class to get the image and label)\n",
        "        '''\n",
        "        In this part we need a code that randomly selects a rotation.\n",
        "        Then we will call the rotation function to get the rotated images\n",
        "        '''\n",
        "        # Randomly select a rotation\n",
        "        rot = float(np.random.choice(self.rotations))\n",
        "        # Rotate the image\n",
        "        rotated_img = rotate_img(image, rot)\n",
        "        # Get the rotation label\n",
        "        chosen_rotation_label = self.rotation_to_label[rot]\n",
        "\n",
        "#         # If a transform is specified, apply it on the rotated img\n",
        "#         if self.transform is not None:\n",
        "#             rotated_img = self.transform(rotated_img)\n",
        "\n",
        "        chosen_rotation_label = torch.tensor(chosen_rotation_label).long()\n",
        "        return image, rotated_img, chosen_rotation_label, torch.tensor(label).long()"
      ]
    },
    {
      "cell_type": "code",
      "execution_count": null,
      "metadata": {
        "id": "CCBSpNWpb8uw"
      },
      "outputs": [],
      "source": [
        "# We're going to be using ResNet18 for this project.\n",
        "# See here https://pytorch.org/vision/0.9/_modules/torchvision/models/resnet.html#resnet18\n",
        "\n",
        "transform_train = transforms.Compose([\n",
        "    transforms.RandomCrop(32, padding=4),\n",
        "    transforms.RandomHorizontalFlip(),\n",
        "    transforms.ToTensor(),\n",
        "    transforms.Normalize((0.4914, 0.4822, 0.4465), (0.2023, 0.1994, 0.2010)),\n",
        "])\n",
        "\n",
        "transform_test = transforms.Compose([\n",
        "    transforms.ToTensor(),\n",
        "    transforms.Normalize((0.4914, 0.4822, 0.4465), (0.2023, 0.1994, 0.2010)),\n",
        "])"
      ]
    },
    {
      "cell_type": "code",
      "execution_count": null,
      "metadata": {
        "colab": {
          "base_uri": "https://localhost:8080/"
        },
        "id": "pis8TGoQEThz",
        "outputId": "1fca5c73-312d-46f7-d0b8-14beb86bd570"
      },
      "outputs": [
        {
          "output_type": "stream",
          "name": "stdout",
          "text": [
            "Files already downloaded and verified\n",
            "Files already downloaded and verified\n"
          ]
        }
      ],
      "source": [
        "batch_size = 128\n",
        "\n",
        "training_dataset = RotatedCIFAR10(root='Set path to data', train=True,\n",
        "                                        download=True, transform=transform_train)\n",
        "training_dataloader = torch.utils.data.DataLoader(training_dataset, batch_size=batch_size,\n",
        "                                          shuffle=True, num_workers=2)\n",
        "test_dataset = RotatedCIFAR10(root='Set path to data', train=False,\n",
        "                                       download=True, transform=transform_test)\n",
        "test_dataloader = torch.utils.data.DataLoader(test_dataset, batch_size=batch_size,\n",
        "                                         shuffle=False, num_workers=2)"
      ]
    },
    {
      "cell_type": "markdown",
      "metadata": {
        "id": "dOCWMyGhVOJB"
      },
      "source": [
        "### Visualize loading to make sure you are loading them in properly"
      ]
    },
    {
      "cell_type": "code",
      "execution_count": null,
      "metadata": {
        "id": "A9wN4BJWVMzB",
        "colab": {
          "base_uri": "https://localhost:8080/",
          "height": 450
        },
        "outputId": "dce3ee2f-ae91-40e3-d3d4-6d28cf13bb62"
      },
      "outputs": [
        {
          "output_type": "stream",
          "name": "stderr",
          "text": [
            "WARNING:matplotlib.image:Clipping input data to the valid range for imshow with RGB data ([0..1] for floats or [0..255] for integers).\n"
          ]
        },
        {
          "output_type": "stream",
          "name": "stdout",
          "text": [
            "4\n"
          ]
        },
        {
          "output_type": "display_data",
          "data": {
            "text/plain": [
              "<Figure size 640x480 with 1 Axes>"
            ],
            "image/png": "[encoded data removed]"
          },
          "metadata": {}
        },
        {
          "output_type": "stream",
          "name": "stderr",
          "text": [
            "WARNING:matplotlib.image:Clipping input data to the valid range for imshow with RGB data ([0..1] for floats or [0..255] for integers).\n"
          ]
        },
        {
          "output_type": "stream",
          "name": "stdout",
          "text": [
            "Class labels:  deer  ship  ship  car  \n"
          ]
        },
        {
          "output_type": "display_data",
          "data": {
            "text/plain": [
              "<Figure size 640x480 with 1 Axes>"
            ],
            "image/png": "[encoded data removed]"
          },
          "metadata": {}
        },
        {
          "output_type": "stream",
          "name": "stdout",
          "text": [
            "Labels of the rotation:  90    270   90    90   \n"
          ]
        }
      ],
      "source": [
        "import matplotlib.pyplot as plt\n",
        "\n",
        "classes = ('plane', 'car', 'bird', 'cat', # CIFAR10 classes\n",
        "           'deer', 'dog', 'frog', 'horse', 'ship', 'truck')\n",
        "\n",
        "rot_classes = ('0', '90', '180', '270') # classes of rotation being considered\n",
        "\n",
        "def data_vis(img):\n",
        "    # This code is reversing the normalization we performed above.\n",
        "    img = transforms.Normalize((0, 0, 0), (1/0.2023, 1/0.1994, 1/0.2010))(img)\n",
        "    img = transforms.Normalize((-0.4914, -0.4822, -0.4465), (1, 1, 1))(img)\n",
        "    npimg = img.numpy()\n",
        "    plt.imshow(np.transpose(npimg, (1, 2, 0)))\n",
        "    plt.show()\n",
        "dataiter = iter(training_dataloader) # Create dataloader iterator\n",
        "images, rotated_images, rotation_labels, labels = next(dataiter) # Load a batch from the dataloader\n",
        "\n",
        "# Displaying the images and labels\n",
        "print(\"4\")\n",
        "img_grid = data_vis(torchvision.utils.make_grid(images[:4], padding=0)) # Display the first four images and labels\n",
        "print('Class labels: ', ' '.join(f'{classes[labels[j]]:5s}' for j in range(4)))\n",
        "img_grid = data_vis(torchvision.utils.make_grid(rotated_images[:4], padding=0))\n",
        "print('Labels of the rotation: ', ' '.join(f'{rot_classes[rotation_labels[j]]:5s}' for j in range(4)))"
      ]
    },
    {
      "cell_type": "markdown",
      "metadata": {
        "id": "unCucbHexG4W"
      },
      "source": [
        "# Code for evaluating your network"
      ]
    },
    {
      "cell_type": "code",
      "execution_count": null,
      "metadata": {
        "id": "pptQRpqK0rOl"
      },
      "outputs": [],
      "source": [
        "import time\n",
        "\n",
        "def run_evaluation(net, test_dataloader, criterion, task):\n",
        "    correct = 0\n",
        "    total = 0\n",
        "    avg_test_loss = 0.0\n",
        "    with torch.no_grad(): # We can disable the computation graph storage here since we aren't calculating the gradient at test time\n",
        "        for images, rotated_images, rotation_labels, classification_labels in test_dataloader:\n",
        "            if task == 'rotation':\n",
        "              images, labels = rotated_images.to(device), rotation_labels.to(device)\n",
        "            elif task == 'classification':\n",
        "              images, labels = images.to(device), classification_labels.to(device)\n",
        "            # In this section you'll need to run the images through the network and pick the class with max response from classifier\n",
        "            # loss\n",
        "\n",
        "            # Codes added here:\n",
        "            # Forward pass\n",
        "            outputs = net(images)\n",
        "\n",
        "            # calculate the batch loss\n",
        "            loss = criterion(outputs, labels)\n",
        "            #\n",
        "            avg_test_loss += criterion(outputs, labels)  / len(test_dataloader)\n",
        "\n",
        "            # Codes added here:\n",
        "            # Convert output probabilities to predicted class\n",
        "            _, predicted = torch.max(outputs.data, 1)\n",
        "            total +=labels.size(0)\n",
        "            correct += (predicted == labels).sum().item()\n",
        "            #\n",
        "\n",
        "    print('TESTING:')\n",
        "    print(f'Test set accuracy: {100 * correct / total:.2f} %')\n",
        "    print(f'Average test loss: {avg_test_loss:.3f}')"
      ]
    },
    {
      "cell_type": "code",
      "execution_count": null,
      "metadata": {
        "id": "hf698c16A9k5"
      },
      "outputs": [],
      "source": [
        "def decay_learning_rate(optimizer, epoch, init_lr, decay_epochs=30):\n",
        "    \"\"\"Decay learning rate by factor of 10 every 30 epochs\"\"\"\n",
        "    lr = init_lr * (0.1 ** (epoch // decay_epochs))\n",
        "    for param_group in optimizer.param_groups:\n",
        "        param_group['lr'] = lr"
      ]
    },
    {
      "cell_type": "markdown",
      "metadata": {
        "id": "3lYdnb1Wsta_"
      },
      "source": [
        "## Training for rotation prediction\n",
        "\n",
        "In this part of the assignment, you'll train a Resnet18 for the rotation prediction task. The network will take in one of your rotated images and predict the label corresponding to that rotation."
      ]
    },
    {
      "cell_type": "code",
      "execution_count": null,
      "metadata": {
        "id": "knAiwdURvBHk",
        "colab": {
          "base_uri": "https://localhost:8080/",
          "height": 36
        },
        "outputId": "bc9891d0-7930-4ca9-d86a-47ddc5ae40bd"
      },
      "outputs": [
        {
          "output_type": "execute_result",
          "data": {
            "text/plain": [
              "'cpu'"
            ],
            "application/vnd.google.colaboratory.intrinsic+json": {
              "type": "string"
            }
          },
          "metadata": {},
          "execution_count": 11
        }
      ],
      "source": [
        "device = 'cuda' if torch.cuda.is_available() else 'cpu'  # This tells PyTorch to use CUDA if it is available\n",
        "device"
      ]
    },
    {
      "cell_type": "code",
      "execution_count": null,
      "metadata": {
        "id": "235MEIUgsv65"
      },
      "outputs": [],
      "source": [
        "import torch.nn as nn\n",
        "import torch.nn.functional as F\n",
        "from torchvision.models import resnet18\n",
        "\n",
        "net = resnet18(num_classes=4) # Pytorch lets you specify the number of classes in this way.\n",
        "# However, if it didn't you would just modify the network definition to add a linear layer\n",
        "# PyTorch does this by: self.fc = nn.Linear(512 * block.expansion, num_classes)\n",
        "net = net.to(device)"
      ]
    },
    {
      "cell_type": "code",
      "execution_count": null,
      "metadata": {
        "id": "Vuhiw0ZoszAd"
      },
      "outputs": [],
      "source": [
        "import torch.optim as optim\n",
        "criterion = nn.CrossEntropyLoss()\n",
        "optimizer = optim.Adam(net.parameters(), lr= 0.001)\n",
        "\n",
        "# In this section, you'll need to set your loss function (criterion) and optimizer\n",
        "# See here (https://pytorch.org/docs/stable/optim.html) for how to use an optimizer\n",
        "# You'll want to use Cross Entropy Loss as your loss"
      ]
    },
    {
      "cell_type": "code",
      "execution_count": null,
      "metadata": {
        "id": "WleH-YBgs0rq"
      },
      "outputs": [],
      "source": [
        "def train(net, criterion, optimizer, num_epochs, decay_epochs, init_lr, task):\n",
        "    for epoch in range(num_epochs):\n",
        "        print(f\"Epoch number: {epoch + 1}\")\n",
        "\n",
        "        curr_accum_loss = 0.0\n",
        "        curr_accum_correct = 0.0\n",
        "        curr_accum_total = 0.0\n",
        "        start_time = time.time()\n",
        "\n",
        "        net.train()\n",
        "\n",
        "        for i, (images, rotated_images, rotation_label, classification_labels) in enumerate(training_dataloader, 0): # this just returns an iteration count from the dataloader\n",
        "            decay_learning_rate(optimizer, epoch, init_lr, decay_epochs) # Decay learning rate\n",
        "            if len(rotated_images) != 128:\n",
        "              pass # This is for the last minibatch when the data is not a factor of the bach size\n",
        "            else:\n",
        "              # You'll need to implement the forward and backward functions and call the optimizer\n",
        "              # Get the prediction results from the network and store them in the variable below\n",
        "\n",
        "              if task == 'rotation':\n",
        "                  images, labels = rotated_images.to(device), rotation_labels.to(device)\n",
        "              elif task == 'classification':\n",
        "                  images, labels = images.to(device), classification_labels.to(device)\n",
        "              else:\n",
        "                  raise ValueError(\"Unknown task\")\n",
        "\n",
        "              optimizer.zero_grad()\n",
        "              predictions = net(images)\n",
        "              loss = criterion(predictions, labels)\n",
        "              loss.backward()\n",
        "              optimizer.step()\n",
        "\n",
        "              print_freq = 10\n",
        "              curr_accum_loss += loss.item()\n",
        "\n",
        "              _, predicted = torch.max(predictions.data, 1)\n",
        "              curr_accum_total += labels.size(0)\n",
        "              curr_accum_correct += (predicted == labels).sum().item()\n",
        "\n",
        "              # calc acc\n",
        "              curr_accum_total += labels.size(0) # Add the number of predictions to the total (This could be different if your last minibatch is less than batchsize)\n",
        "              curr_accum_correct += (predicted == labels).sum().item() # Count how many you got right\n",
        "\n",
        "              if i % print_freq == (print_freq - 1):    # print some statistics\n",
        "                  print(f'[{epoch + 1}, {i + 1:5d}] loss: {curr_accum_loss / print_freq:.3f} acc: {100*curr_accum_correct / curr_accum_total:.2f} time: {time.time() - start_time:.2f}')\n",
        "                  curr_accum_loss, curr_accum_correct, curr_accum_total = 0.0, 0.0, 0.0\n",
        "                  start_time = time.time()\n",
        "\n",
        "        # You'll to run the run_evaluation() function after each epoch.un the run_evaluation() function after each epoch\n",
        "        # Remember to set the model to evaluation mode\n",
        "        # Codes added here:\n",
        "        net.eval()\n",
        "        run_evaluation(net, test_dataloader, criterion, task)\n",
        "        #\n",
        "\n",
        "    print('Finished Training')"
      ]
    },
    {
      "cell_type": "code",
      "execution_count": null,
      "metadata": {
        "id": "2u4AsfAKtaQS",
        "colab": {
          "base_uri": "https://localhost:8080/",
          "height": 1000
        },
        "outputId": "8e694c1d-223e-48ed-9bf1-9383bcccdad8"
      },
      "outputs": [
        {
          "output_type": "stream",
          "name": "stdout",
          "text": [
            "Epoch number: 1\n",
            "[1,    10] loss: 1.524 acc: 27.42 time: 19.86\n",
            "[1,    20] loss: 1.540 acc: 26.48 time: 22.06\n",
            "[1,    30] loss: 1.564 acc: 23.67 time: 20.04\n",
            "[1,    40] loss: 1.434 acc: 27.03 time: 21.70\n",
            "[1,    50] loss: 1.433 acc: 26.80 time: 20.81\n",
            "[1,    60] loss: 1.471 acc: 27.03 time: 21.99\n",
            "[1,    70] loss: 1.459 acc: 27.34 time: 20.06\n",
            "[1,    80] loss: 1.511 acc: 26.80 time: 20.79\n",
            "[1,    90] loss: 1.523 acc: 26.25 time: 20.11\n",
            "[1,   100] loss: 1.424 acc: 24.69 time: 21.74\n",
            "[1,   110] loss: 1.456 acc: 26.17 time: 21.10\n",
            "[1,   120] loss: 1.425 acc: 26.95 time: 25.64\n",
            "[1,   130] loss: 1.423 acc: 25.08 time: 20.05\n",
            "[1,   140] loss: 1.436 acc: 27.81 time: 30.97\n",
            "[1,   150] loss: 1.421 acc: 27.50 time: 20.54\n",
            "[1,   160] loss: 1.418 acc: 25.78 time: 19.14\n",
            "[1,   170] loss: 1.418 acc: 26.88 time: 21.10\n",
            "[1,   180] loss: 1.450 acc: 27.42 time: 19.52\n",
            "[1,   190] loss: 1.423 acc: 27.97 time: 21.98\n",
            "[1,   200] loss: 1.411 acc: 28.28 time: 20.02\n",
            "[1,   210] loss: 1.434 acc: 27.34 time: 19.48\n",
            "[1,   220] loss: 1.395 acc: 28.05 time: 21.21\n",
            "[1,   230] loss: 1.395 acc: 26.64 time: 30.97\n",
            "[1,   240] loss: 1.386 acc: 27.97 time: 23.68\n",
            "[1,   250] loss: 1.408 acc: 27.19 time: 18.85\n",
            "[1,   260] loss: 1.414 acc: 26.33 time: 20.34\n",
            "[1,   270] loss: 1.415 acc: 26.88 time: 20.66\n",
            "[1,   280] loss: 1.412 acc: 26.48 time: 19.66\n",
            "[1,   290] loss: 1.398 acc: 26.88 time: 21.82\n",
            "[1,   300] loss: 1.394 acc: 27.11 time: 20.77\n",
            "[1,   310] loss: 1.398 acc: 26.95 time: 21.02\n",
            "[1,   320] loss: 1.414 acc: 27.27 time: 19.85\n",
            "[1,   330] loss: 1.403 acc: 27.11 time: 22.06\n",
            "[1,   340] loss: 1.398 acc: 27.11 time: 19.36\n",
            "[1,   350] loss: 1.387 acc: 27.42 time: 21.31\n",
            "[1,   360] loss: 1.410 acc: 27.11 time: 19.51\n",
            "[1,   370] loss: 1.403 acc: 27.19 time: 21.75\n",
            "[1,   380] loss: 1.400 acc: 27.19 time: 20.56\n",
            "[1,   390] loss: 1.396 acc: 27.27 time: 20.61\n"
          ]
        },
        {
          "output_type": "error",
          "ename": "NameError",
          "evalue": "name 'network_outputs' is not defined",
          "traceback": [
            "\u001b[0;31m---------------------------------------------------------------------------\u001b[0m",
            "\u001b[0;31mNameError\u001b[0m                                 Traceback (most recent call last)",
            "\u001b[0;32m<ipython-input-17-f90b7d92fabe>\u001b[0m in \u001b[0;36m<cell line: 1>\u001b[0;34m()\u001b[0m\n\u001b[0;32m----> 1\u001b[0;31m \u001b[0mtrain\u001b[0m\u001b[0;34m(\u001b[0m\u001b[0mnet\u001b[0m\u001b[0;34m,\u001b[0m \u001b[0mcriterion\u001b[0m\u001b[0;34m,\u001b[0m \u001b[0moptimizer\u001b[0m\u001b[0;34m,\u001b[0m \u001b[0mnum_epochs\u001b[0m\u001b[0;34m=\u001b[0m\u001b[0;36m45\u001b[0m\u001b[0;34m,\u001b[0m \u001b[0mdecay_epochs\u001b[0m\u001b[0;34m=\u001b[0m\u001b[0;36m15\u001b[0m\u001b[0;34m,\u001b[0m \u001b[0minit_lr\u001b[0m\u001b[0;34m=\u001b[0m\u001b[0;36m0.01\u001b[0m\u001b[0;34m,\u001b[0m \u001b[0mtask\u001b[0m\u001b[0;34m=\u001b[0m\u001b[0;34m'rotation'\u001b[0m\u001b[0;34m)\u001b[0m\u001b[0;34m\u001b[0m\u001b[0;34m\u001b[0m\u001b[0m\n\u001b[0m\u001b[1;32m      2\u001b[0m \u001b[0;34m\u001b[0m\u001b[0m\n\u001b[1;32m      3\u001b[0m \u001b[0;31m# Write code for saving your model to a file\u001b[0m\u001b[0;34m\u001b[0m\u001b[0;34m\u001b[0m\u001b[0m\n",
            "\u001b[0;32m<ipython-input-16-a42554244aac>\u001b[0m in \u001b[0;36mtrain\u001b[0;34m(net, criterion, optimizer, num_epochs, decay_epochs, init_lr, task)\u001b[0m\n\u001b[1;32m     55\u001b[0m         \u001b[0;31m# Codes added here:\u001b[0m\u001b[0;34m\u001b[0m\u001b[0;34m\u001b[0m\u001b[0m\n\u001b[1;32m     56\u001b[0m         \u001b[0mnet\u001b[0m\u001b[0;34m.\u001b[0m\u001b[0meval\u001b[0m\u001b[0;34m(\u001b[0m\u001b[0;34m)\u001b[0m\u001b[0;34m\u001b[0m\u001b[0;34m\u001b[0m\u001b[0m\n\u001b[0;32m---> 57\u001b[0;31m         \u001b[0mrun_evaluation\u001b[0m\u001b[0;34m(\u001b[0m\u001b[0mnet\u001b[0m\u001b[0;34m,\u001b[0m \u001b[0mtest_dataloader\u001b[0m\u001b[0;34m,\u001b[0m \u001b[0mcriterion\u001b[0m\u001b[0;34m,\u001b[0m \u001b[0mtask\u001b[0m\u001b[0;34m)\u001b[0m\u001b[0;34m\u001b[0m\u001b[0;34m\u001b[0m\u001b[0m\n\u001b[0m\u001b[1;32m     58\u001b[0m         \u001b[0;31m#\u001b[0m\u001b[0;34m\u001b[0m\u001b[0;34m\u001b[0m\u001b[0m\n\u001b[1;32m     59\u001b[0m \u001b[0;34m\u001b[0m\u001b[0m\n",
            "\u001b[0;32m<ipython-input-9-7507f0ac0044>\u001b[0m in \u001b[0;36mrun_evaluation\u001b[0;34m(net, test_dataloader, criterion, task)\u001b[0m\n\u001b[1;32m     21\u001b[0m             \u001b[0mloss\u001b[0m \u001b[0;34m=\u001b[0m \u001b[0mcriterion\u001b[0m\u001b[0;34m(\u001b[0m\u001b[0moutputs\u001b[0m\u001b[0;34m,\u001b[0m \u001b[0mlabels\u001b[0m\u001b[0;34m)\u001b[0m\u001b[0;34m\u001b[0m\u001b[0;34m\u001b[0m\u001b[0m\n\u001b[1;32m     22\u001b[0m             \u001b[0;31m#\u001b[0m\u001b[0;34m\u001b[0m\u001b[0;34m\u001b[0m\u001b[0m\n\u001b[0;32m---> 23\u001b[0;31m             \u001b[0mavg_test_loss\u001b[0m \u001b[0;34m+=\u001b[0m \u001b[0mcriterion\u001b[0m\u001b[0;34m(\u001b[0m\u001b[0mnetwork_outputs\u001b[0m\u001b[0;34m,\u001b[0m \u001b[0mclassification_labels\u001b[0m\u001b[0;34m)\u001b[0m  \u001b[0;34m/\u001b[0m \u001b[0mlen\u001b[0m\u001b[0;34m(\u001b[0m\u001b[0mtest_dataloader\u001b[0m\u001b[0;34m)\u001b[0m\u001b[0;34m\u001b[0m\u001b[0;34m\u001b[0m\u001b[0m\n\u001b[0m\u001b[1;32m     24\u001b[0m \u001b[0;34m\u001b[0m\u001b[0m\n\u001b[1;32m     25\u001b[0m             \u001b[0;31m# Codes added here:\u001b[0m\u001b[0;34m\u001b[0m\u001b[0;34m\u001b[0m\u001b[0m\n",
            "\u001b[0;31mNameError\u001b[0m: name 'network_outputs' is not defined"
          ]
        }
      ],
      "source": [
        "train(net, criterion, optimizer, num_epochs=45, decay_epochs=15, init_lr=0.01, task='rotation')"
      ]
    },
    {
      "cell_type": "code",
      "source": [
        "# Making a new folder in the directory and then saving the model\n",
        "!mkdir -p model-weights\n",
        "torch.save(net.state_dict(), \"model-weights/model-1-weights\")"
      ],
      "metadata": {
        "id": "IsgUO-gUhWqo"
      },
      "execution_count": null,
      "outputs": []
    },
    {
      "cell_type": "markdown",
      "metadata": {
        "id": "PLLMRTS9rTnk"
      },
      "source": [
        "## Fine-tuning the pre-trained model\n",
        "\n",
        "### In this section we'll be loading the pre-trained ResNet18 model from the PyTorch library and fine-tune it on the image classification task. However, we're only going to fine-tune part of the model. Specifically, we'll be freezing all the layers except the layer4 block and the fc layer."
      ]
    },
    {
      "cell_type": "code",
      "execution_count": null,
      "metadata": {
        "id": "S4nX4ExlrymI",
        "colab": {
          "base_uri": "https://localhost:8080/"
        },
        "outputId": "19197317-6820-4618-e72f-13a8ac401d5b"
      },
      "outputs": [
        {
          "output_type": "stream",
          "name": "stderr",
          "text": [
            "Downloading: \"https://download.pytorch.org/models/resnet18-f37072fd.pth\" to /root/.cache/torch/hub/checkpoints/resnet18-f37072fd.pth\n",
            "100%|██████████| 44.7M/44.7M [00:00<00:00, 90.9MB/s]\n"
          ]
        }
      ],
      "source": [
        "import torch.nn as nn\n",
        "import torch.nn.functional as F\n",
        "from torchvision.models import resnet18\n",
        "\n",
        "# Load the pre-trained ResNet18 model\n",
        "net = resnet18(pretrained= True)\n",
        "\n",
        "# Adding a fc layer with 10 classes at the end\n",
        "num_classes = 10 # This is 10 because task is \"classification\"\n",
        "net.fc = nn.Linear(net.fc.in_features, num_classes)\n"
      ]
    },
    {
      "cell_type": "code",
      "source": [
        "# We need to write code here to freeze all layers except the layer4 block and the fc layer.\n",
        "for param in net.parameters():\n",
        "    param.requires_grad = False\n",
        "\n",
        "for param in net.layer4.parameters():\n",
        "    param.requires_grad = True\n",
        "\n",
        "for param in net.fc.parameters():\n",
        "    param.requires_grad = True"
      ],
      "metadata": {
        "id": "km463LAsksPy"
      },
      "execution_count": null,
      "outputs": []
    },
    {
      "cell_type": "code",
      "execution_count": null,
      "metadata": {
        "id": "9T5DX0efr4fh",
        "colab": {
          "base_uri": "https://localhost:8080/"
        },
        "outputId": "5559da90-0c81-48e2-863d-f59b91fcdfc4"
      },
      "outputs": [
        {
          "output_type": "stream",
          "name": "stdout",
          "text": [
            "Parameters that will be trained:\n",
            "\t layer4.0.conv1.weight\n",
            "\t layer4.0.bn1.weight\n",
            "\t layer4.0.bn1.bias\n",
            "\t layer4.0.conv2.weight\n",
            "\t layer4.0.bn2.weight\n",
            "\t layer4.0.bn2.bias\n",
            "\t layer4.0.downsample.0.weight\n",
            "\t layer4.0.downsample.1.weight\n",
            "\t layer4.0.downsample.1.bias\n",
            "\t layer4.1.conv1.weight\n",
            "\t layer4.1.bn1.weight\n",
            "\t layer4.1.bn1.bias\n",
            "\t layer4.1.conv2.weight\n",
            "\t layer4.1.bn2.weight\n",
            "\t layer4.1.bn2.bias\n",
            "\t fc.weight\n",
            "\t fc.bias\n"
          ]
        }
      ],
      "source": [
        "# Here we'll list the parameters that are being trained to make sure we did the above correctly\n",
        "parameter_to_train = net.parameters()\n",
        "print(\"Parameters that will be trained:\")\n",
        "parameter_to_train = []\n",
        "for name,param in net.named_parameters():\n",
        "    if param.requires_grad == True:\n",
        "        parameter_to_train.append(param)\n",
        "        print(\"\\t\",name)"
      ]
    },
    {
      "cell_type": "code",
      "execution_count": null,
      "metadata": {
        "id": "xb032dG700ph"
      },
      "outputs": [],
      "source": [
        "# Again, set the loss function and optimizer. Remember, your optimizer only will update the trainable parameters.\n",
        "criterion = nn.CrossEntropyLoss()\n",
        "optimizer = optim.Adam(parameter_to_train, lr= 0.001)"
      ]
    },
    {
      "cell_type": "code",
      "execution_count": null,
      "metadata": {
        "id": "3vLSwOo6sBjl",
        "colab": {
          "base_uri": "https://localhost:8080/"
        },
        "outputId": "a3c33fe7-1d53-4781-f99c-6aaab7701bff"
      },
      "outputs": [
        {
          "output_type": "stream",
          "name": "stdout",
          "text": [
            "Epoch number: 1\n",
            "[1,    10] loss: 3.439 acc: 17.58 time: 16.85\n",
            "[1,    20] loss: 2.342 acc: 30.31 time: 13.61\n",
            "[1,    30] loss: 1.951 acc: 35.86 time: 14.02\n",
            "[1,    40] loss: 1.679 acc: 44.77 time: 12.21\n",
            "[1,    50] loss: 1.535 acc: 47.58 time: 13.18\n",
            "[1,    60] loss: 1.626 acc: 44.92 time: 13.32\n",
            "[1,    70] loss: 1.501 acc: 49.77 time: 12.99\n",
            "[1,    80] loss: 1.501 acc: 52.50 time: 13.42\n",
            "[1,    90] loss: 1.519 acc: 51.17 time: 13.35\n",
            "[1,   100] loss: 1.484 acc: 53.52 time: 13.42\n",
            "[1,   110] loss: 1.427 acc: 52.81 time: 13.41\n",
            "[1,   120] loss: 1.308 acc: 52.58 time: 13.01\n",
            "[1,   130] loss: 1.340 acc: 54.45 time: 12.59\n",
            "[1,   140] loss: 1.314 acc: 54.69 time: 12.55\n",
            "[1,   150] loss: 1.317 acc: 57.34 time: 11.88\n",
            "[1,   160] loss: 1.328 acc: 57.11 time: 11.76\n",
            "[1,   170] loss: 1.278 acc: 57.03 time: 12.90\n",
            "[1,   180] loss: 1.290 acc: 55.39 time: 12.72\n",
            "[1,   190] loss: 1.259 acc: 56.33 time: 13.07\n",
            "[1,   200] loss: 1.209 acc: 58.67 time: 12.61\n",
            "[1,   210] loss: 1.258 acc: 57.97 time: 12.87\n",
            "[1,   220] loss: 1.338 acc: 54.61 time: 13.43\n",
            "[1,   230] loss: 1.212 acc: 57.58 time: 13.07\n",
            "[1,   240] loss: 1.195 acc: 59.61 time: 12.97\n",
            "[1,   250] loss: 1.448 acc: 56.41 time: 13.23\n",
            "[1,   260] loss: 1.203 acc: 56.95 time: 12.49\n",
            "[1,   270] loss: 1.153 acc: 58.98 time: 11.65\n",
            "[1,   280] loss: 1.264 acc: 56.41 time: 12.36\n",
            "[1,   290] loss: 1.209 acc: 59.53 time: 12.46\n",
            "[1,   300] loss: 1.342 acc: 57.73 time: 12.76\n",
            "[1,   310] loss: 1.183 acc: 59.38 time: 12.87\n",
            "[1,   320] loss: 1.227 acc: 57.81 time: 12.72\n",
            "[1,   330] loss: 1.180 acc: 57.73 time: 13.39\n",
            "[1,   340] loss: 1.207 acc: 60.00 time: 12.80\n",
            "[1,   350] loss: 1.205 acc: 58.52 time: 12.85\n",
            "[1,   360] loss: 1.034 acc: 65.47 time: 13.50\n",
            "[1,   370] loss: 1.169 acc: 58.91 time: 12.30\n",
            "[1,   380] loss: 1.177 acc: 58.12 time: 12.40\n",
            "[1,   390] loss: 1.240 acc: 59.84 time: 12.15\n",
            "TESTING:\n",
            "Test set accuracy: 62.54 %\n",
            "Average test loss: 1.077\n",
            "Epoch number: 2\n",
            "[2,    10] loss: 1.079 acc: 62.42 time: 13.54\n",
            "[2,    20] loss: 1.088 acc: 61.17 time: 11.98\n",
            "[2,    30] loss: 1.080 acc: 62.58 time: 13.07\n",
            "[2,    40] loss: 1.110 acc: 61.95 time: 12.80\n",
            "[2,    50] loss: 1.131 acc: 60.94 time: 13.08\n",
            "[2,    60] loss: 1.226 acc: 59.84 time: 13.36\n",
            "[2,    70] loss: 1.123 acc: 60.94 time: 13.47\n",
            "[2,    80] loss: 1.219 acc: 60.55 time: 13.37\n",
            "[2,    90] loss: 1.101 acc: 61.64 time: 12.80\n",
            "[2,   100] loss: 1.263 acc: 60.16 time: 13.20\n",
            "[2,   110] loss: 1.191 acc: 60.39 time: 12.94\n",
            "[2,   120] loss: 1.164 acc: 61.88 time: 12.49\n",
            "[2,   130] loss: 1.186 acc: 62.81 time: 12.90\n",
            "[2,   140] loss: 1.054 acc: 62.58 time: 12.36\n",
            "[2,   150] loss: 1.225 acc: 61.02 time: 12.45\n",
            "[2,   160] loss: 1.167 acc: 60.55 time: 12.65\n",
            "[2,   170] loss: 1.107 acc: 59.92 time: 13.12\n",
            "[2,   180] loss: 1.245 acc: 63.36 time: 12.58\n",
            "[2,   190] loss: 1.092 acc: 63.98 time: 12.69\n",
            "[2,   200] loss: 1.026 acc: 65.16 time: 12.77\n",
            "[2,   210] loss: 1.075 acc: 63.12 time: 12.67\n",
            "[2,   220] loss: 1.198 acc: 59.22 time: 12.94\n",
            "[2,   230] loss: 1.090 acc: 60.86 time: 12.98\n",
            "[2,   240] loss: 1.079 acc: 61.80 time: 13.13\n",
            "[2,   250] loss: 1.065 acc: 62.34 time: 12.15\n",
            "[2,   260] loss: 1.026 acc: 64.30 time: 11.91\n",
            "[2,   270] loss: 1.141 acc: 61.02 time: 12.45\n",
            "[2,   280] loss: 1.043 acc: 64.38 time: 12.09\n",
            "[2,   290] loss: 1.095 acc: 60.47 time: 12.82\n",
            "[2,   300] loss: 1.115 acc: 62.11 time: 13.02\n",
            "[2,   310] loss: 1.098 acc: 63.05 time: 12.94\n",
            "[2,   320] loss: 1.033 acc: 64.38 time: 12.86\n",
            "[2,   330] loss: 1.050 acc: 64.69 time: 13.22\n",
            "[2,   340] loss: 1.147 acc: 59.45 time: 13.22\n",
            "[2,   350] loss: 1.098 acc: 63.59 time: 12.51\n",
            "[2,   360] loss: 1.044 acc: 63.59 time: 12.81\n",
            "[2,   370] loss: 1.043 acc: 64.30 time: 12.60\n",
            "[2,   380] loss: 1.033 acc: 62.66 time: 12.81\n",
            "[2,   390] loss: 1.024 acc: 64.53 time: 12.56\n",
            "TESTING:\n",
            "Test set accuracy: 64.85 %\n",
            "Average test loss: 1.002\n",
            "Finished Training\n"
          ]
        }
      ],
      "source": [
        "train(net, criterion, optimizer, num_epochs=2, decay_epochs=10, init_lr=0.01, task='classification')"
      ]
    },
    {
      "cell_type": "code",
      "source": [
        "# Saving the model\n",
        "torch.save(net.state_dict(), \"model-weights/model-2-weights\")"
      ],
      "metadata": {
        "id": "2TJsRr0vil5f"
      },
      "execution_count": null,
      "outputs": []
    },
    {
      "cell_type": "markdown",
      "metadata": {
        "id": "ghPNhcJBrcNj"
      },
      "source": [
        "# Fine-tuning a randomly initialized model\n",
        "\n",
        "### In this part, we need to randomly initialize a ResNet18 model. Then, we'll train that model on the classification task."
      ]
    },
    {
      "cell_type": "code",
      "execution_count": null,
      "metadata": {
        "id": "2RfXAh9vxXRB"
      },
      "outputs": [],
      "source": [
        "import torch.nn as nn\n",
        "import torch.nn.functional as F\n",
        "from torchvision.models import resnet18\n",
        "\n",
        "# Load a randomly initialized ResNet18 network\n",
        "net = resnet18(pretrained=False)\n",
        "# Adding a fc layer with 10 classes at the end\n",
        "num_classes = 10 # This is 10\n",
        "net.fc = nn.Linear(net.fc.in_features, num_classes)"
      ]
    },
    {
      "cell_type": "code",
      "execution_count": null,
      "metadata": {
        "id": "fpx-SYAizt4p"
      },
      "outputs": [],
      "source": [
        "# You'll need to freeze all layers in the network except the layer4 block and the fc layer (only these should be trainable)\n",
        "# Hint: Look up the \"requires_grad\" variable\n",
        "for param in net.parameters():\n",
        "    param.requires_grad = False\n",
        "\n",
        "for param in net.layer4.parameters():\n",
        "    param.requires_grad = True\n",
        "\n",
        "for param in net.fc.parameters():\n",
        "    param.requires_grad = True"
      ]
    },
    {
      "cell_type": "code",
      "execution_count": null,
      "metadata": {
        "id": "BUFWizbHxgm2",
        "colab": {
          "base_uri": "https://localhost:8080/"
        },
        "outputId": "1ff65d6f-f448-4af5-be55-37fd65a67f1b"
      },
      "outputs": [
        {
          "output_type": "stream",
          "name": "stdout",
          "text": [
            "Parameters that will be trained:\n",
            "\t layer4.0.conv1.weight\n",
            "\t layer4.0.bn1.weight\n",
            "\t layer4.0.bn1.bias\n",
            "\t layer4.0.conv2.weight\n",
            "\t layer4.0.bn2.weight\n",
            "\t layer4.0.bn2.bias\n",
            "\t layer4.0.downsample.0.weight\n",
            "\t layer4.0.downsample.1.weight\n",
            "\t layer4.0.downsample.1.bias\n",
            "\t layer4.1.conv1.weight\n",
            "\t layer4.1.bn1.weight\n",
            "\t layer4.1.bn1.bias\n",
            "\t layer4.1.conv2.weight\n",
            "\t layer4.1.bn2.weight\n",
            "\t layer4.1.bn2.bias\n",
            "\t fc.weight\n",
            "\t fc.bias\n"
          ]
        }
      ],
      "source": [
        "# Print all the trainable parameters\n",
        "parameter_to_train = net.parameters()\n",
        "print(\"Parameters that will be trained:\")\n",
        "parameter_to_train = []\n",
        "for name,param in net.named_parameters():\n",
        "    if param.requires_grad == True:\n",
        "        parameter_to_train.append(param)\n",
        "        print(\"\\t\",name)"
      ]
    },
    {
      "cell_type": "code",
      "execution_count": null,
      "metadata": {
        "id": "BxFrGj091AN_"
      },
      "outputs": [],
      "source": [
        "# Again, set the loss function and optimizer. Remember, your optimizer only will update the trainable parameters.\n",
        "criterion = nn.CrossEntropyLoss()\n",
        "optimizer = optim.Adam(parameter_to_train, lr= 0.001)"
      ]
    },
    {
      "cell_type": "code",
      "execution_count": null,
      "metadata": {
        "id": "GzRVy0MZxpoL",
        "colab": {
          "base_uri": "https://localhost:8080/",
          "height": 356
        },
        "outputId": "b951c7a1-5556-4e78-82d5-e5ef056f511b"
      },
      "outputs": [
        {
          "output_type": "stream",
          "name": "stdout",
          "text": [
            "Epoch number: 1\n",
            "[1,    10] loss: 2.060 acc: 26.48 time: 17.95\n",
            "[1,    20] loss: 2.066 acc: 25.55 time: 15.40\n"
          ]
        },
        {
          "output_type": "error",
          "ename": "KeyboardInterrupt",
          "evalue": "",
          "traceback": [
            "\u001b[0;31m---------------------------------------------------------------------------\u001b[0m",
            "\u001b[0;31mKeyboardInterrupt\u001b[0m                         Traceback (most recent call last)",
            "\u001b[0;32m<ipython-input-78-202982955ceb>\u001b[0m in \u001b[0;36m<cell line: 1>\u001b[0;34m()\u001b[0m\n\u001b[0;32m----> 1\u001b[0;31m \u001b[0mtrain\u001b[0m\u001b[0;34m(\u001b[0m\u001b[0mnet\u001b[0m\u001b[0;34m,\u001b[0m \u001b[0mcriterion\u001b[0m\u001b[0;34m,\u001b[0m \u001b[0moptimizer\u001b[0m\u001b[0;34m,\u001b[0m \u001b[0mnum_epochs\u001b[0m\u001b[0;34m=\u001b[0m\u001b[0;36m20\u001b[0m\u001b[0;34m,\u001b[0m \u001b[0mdecay_epochs\u001b[0m\u001b[0;34m=\u001b[0m\u001b[0;36m10\u001b[0m\u001b[0;34m,\u001b[0m \u001b[0minit_lr\u001b[0m\u001b[0;34m=\u001b[0m\u001b[0;36m0.01\u001b[0m\u001b[0;34m,\u001b[0m \u001b[0mtask\u001b[0m\u001b[0;34m=\u001b[0m\u001b[0;34m'classification'\u001b[0m\u001b[0;34m)\u001b[0m\u001b[0;34m\u001b[0m\u001b[0;34m\u001b[0m\u001b[0m\n\u001b[0m",
            "\u001b[0;32m<ipython-input-77-c55041416581>\u001b[0m in \u001b[0;36mtrain\u001b[0;34m(net, criterion, optimizer, num_epochs, decay_epochs, init_lr, task)\u001b[0m\n\u001b[1;32m     27\u001b[0m             \u001b[0mpredictions\u001b[0m \u001b[0;34m=\u001b[0m \u001b[0mnet\u001b[0m\u001b[0;34m(\u001b[0m\u001b[0mimages\u001b[0m\u001b[0;34m)\u001b[0m\u001b[0;34m\u001b[0m\u001b[0;34m\u001b[0m\u001b[0m\n\u001b[1;32m     28\u001b[0m             \u001b[0mloss\u001b[0m \u001b[0;34m=\u001b[0m \u001b[0mcriterion\u001b[0m\u001b[0;34m(\u001b[0m\u001b[0mpredictions\u001b[0m\u001b[0;34m,\u001b[0m \u001b[0mlabels\u001b[0m\u001b[0;34m)\u001b[0m\u001b[0;34m\u001b[0m\u001b[0;34m\u001b[0m\u001b[0m\n\u001b[0;32m---> 29\u001b[0;31m             \u001b[0mloss\u001b[0m\u001b[0;34m.\u001b[0m\u001b[0mbackward\u001b[0m\u001b[0;34m(\u001b[0m\u001b[0;34m)\u001b[0m\u001b[0;34m\u001b[0m\u001b[0;34m\u001b[0m\u001b[0m\n\u001b[0m\u001b[1;32m     30\u001b[0m             \u001b[0moptimizer\u001b[0m\u001b[0;34m.\u001b[0m\u001b[0mstep\u001b[0m\u001b[0;34m(\u001b[0m\u001b[0;34m)\u001b[0m\u001b[0;34m\u001b[0m\u001b[0;34m\u001b[0m\u001b[0m\n\u001b[1;32m     31\u001b[0m             \u001b[0;31m#\u001b[0m\u001b[0;34m\u001b[0m\u001b[0;34m\u001b[0m\u001b[0m\n",
            "\u001b[0;32m/usr/local/lib/python3.10/dist-packages/torch/_tensor.py\u001b[0m in \u001b[0;36mbackward\u001b[0;34m(self, gradient, retain_graph, create_graph, inputs)\u001b[0m\n\u001b[1;32m    520\u001b[0m                 \u001b[0minputs\u001b[0m\u001b[0;34m=\u001b[0m\u001b[0minputs\u001b[0m\u001b[0;34m,\u001b[0m\u001b[0;34m\u001b[0m\u001b[0;34m\u001b[0m\u001b[0m\n\u001b[1;32m    521\u001b[0m             )\n\u001b[0;32m--> 522\u001b[0;31m         torch.autograd.backward(\n\u001b[0m\u001b[1;32m    523\u001b[0m             \u001b[0mself\u001b[0m\u001b[0;34m,\u001b[0m \u001b[0mgradient\u001b[0m\u001b[0;34m,\u001b[0m \u001b[0mretain_graph\u001b[0m\u001b[0;34m,\u001b[0m \u001b[0mcreate_graph\u001b[0m\u001b[0;34m,\u001b[0m \u001b[0minputs\u001b[0m\u001b[0;34m=\u001b[0m\u001b[0minputs\u001b[0m\u001b[0;34m\u001b[0m\u001b[0;34m\u001b[0m\u001b[0m\n\u001b[1;32m    524\u001b[0m         )\n",
            "\u001b[0;32m/usr/local/lib/python3.10/dist-packages/torch/autograd/__init__.py\u001b[0m in \u001b[0;36mbackward\u001b[0;34m(tensors, grad_tensors, retain_graph, create_graph, grad_variables, inputs)\u001b[0m\n\u001b[1;32m    264\u001b[0m     \u001b[0;31m# some Python versions print out the first line of a multi-line function\u001b[0m\u001b[0;34m\u001b[0m\u001b[0;34m\u001b[0m\u001b[0m\n\u001b[1;32m    265\u001b[0m     \u001b[0;31m# calls in the traceback and some print out the last line\u001b[0m\u001b[0;34m\u001b[0m\u001b[0;34m\u001b[0m\u001b[0m\n\u001b[0;32m--> 266\u001b[0;31m     Variable._execution_engine.run_backward(  # Calls into the C++ engine to run the backward pass\n\u001b[0m\u001b[1;32m    267\u001b[0m         \u001b[0mtensors\u001b[0m\u001b[0;34m,\u001b[0m\u001b[0;34m\u001b[0m\u001b[0;34m\u001b[0m\u001b[0m\n\u001b[1;32m    268\u001b[0m         \u001b[0mgrad_tensors_\u001b[0m\u001b[0;34m,\u001b[0m\u001b[0;34m\u001b[0m\u001b[0;34m\u001b[0m\u001b[0m\n",
            "\u001b[0;31mKeyboardInterrupt\u001b[0m: "
          ]
        }
      ],
      "source": [
        "train(net, criterion, optimizer, num_epochs=20, decay_epochs=10, init_lr=0.01, task='classification')"
      ]
    },
    {
      "cell_type": "code",
      "source": [
        "# Saving the model\n",
        "torch.save(net.state_dict(), \"model-weights/model-3-weights\")"
      ],
      "metadata": {
        "id": "naQqvnicjCmc"
      },
      "execution_count": null,
      "outputs": []
    },
    {
      "cell_type": "markdown",
      "metadata": {
        "id": "WcN54tcNN15U"
      },
      "source": [
        "# Supervised training\n",
        "\n",
        "### In this part, you'll load the pre-trained ResNet18 and fine-tune the whole model on the CIFAR10 classification task."
      ]
    },
    {
      "cell_type": "code",
      "execution_count": null,
      "metadata": {
        "id": "9xR9h_S1N6Xi"
      },
      "outputs": [],
      "source": [
        "import torch.nn as nn\n",
        "import torch.nn.functional as F\n",
        "from torchvision.models import resnet18\n",
        "\n",
        "# Load the ResNet18 model (pretrained)\n",
        "net = resnet18(pretrained= True)\n",
        "\n",
        "# Adding a fc layer with 10 classes at the end of the model\n",
        "num_classes = 10\n",
        "net.fc = nn.Linear(net.fc.in_features, num_classes)"
      ]
    },
    {
      "cell_type": "code",
      "execution_count": null,
      "metadata": {
        "id": "gGozc2cM0ADw"
      },
      "outputs": [],
      "source": [
        "# Again, set the loss function and optimizer.\n",
        "criterion = nn.CrossEntropyLoss()\n",
        "optimizer = optim.Adam(net.parameters(), lr= 0.001)"
      ]
    },
    {
      "cell_type": "code",
      "execution_count": null,
      "metadata": {
        "id": "JGWW7gzCz_Bu",
        "colab": {
          "base_uri": "https://localhost:8080/",
          "height": 356
        },
        "outputId": "aa4fcf9a-2d25-43c5-fdc7-1dabb4462131"
      },
      "outputs": [
        {
          "output_type": "stream",
          "name": "stdout",
          "text": [
            "Epoch number: 1\n",
            "[1,    10] loss: 3.564 acc: 9.53 time: 20.60\n",
            "[1,    20] loss: 2.710 acc: 11.17 time: 18.06\n"
          ]
        },
        {
          "output_type": "error",
          "ename": "KeyboardInterrupt",
          "evalue": "",
          "traceback": [
            "\u001b[0;31m---------------------------------------------------------------------------\u001b[0m",
            "\u001b[0;31mKeyboardInterrupt\u001b[0m                         Traceback (most recent call last)",
            "\u001b[0;32m<ipython-input-82-202982955ceb>\u001b[0m in \u001b[0;36m<cell line: 1>\u001b[0;34m()\u001b[0m\n\u001b[0;32m----> 1\u001b[0;31m \u001b[0mtrain\u001b[0m\u001b[0;34m(\u001b[0m\u001b[0mnet\u001b[0m\u001b[0;34m,\u001b[0m \u001b[0mcriterion\u001b[0m\u001b[0;34m,\u001b[0m \u001b[0moptimizer\u001b[0m\u001b[0;34m,\u001b[0m \u001b[0mnum_epochs\u001b[0m\u001b[0;34m=\u001b[0m\u001b[0;36m20\u001b[0m\u001b[0;34m,\u001b[0m \u001b[0mdecay_epochs\u001b[0m\u001b[0;34m=\u001b[0m\u001b[0;36m10\u001b[0m\u001b[0;34m,\u001b[0m \u001b[0minit_lr\u001b[0m\u001b[0;34m=\u001b[0m\u001b[0;36m0.01\u001b[0m\u001b[0;34m,\u001b[0m \u001b[0mtask\u001b[0m\u001b[0;34m=\u001b[0m\u001b[0;34m'classification'\u001b[0m\u001b[0;34m)\u001b[0m\u001b[0;34m\u001b[0m\u001b[0;34m\u001b[0m\u001b[0m\n\u001b[0m",
            "\u001b[0;32m<ipython-input-77-c55041416581>\u001b[0m in \u001b[0;36mtrain\u001b[0;34m(net, criterion, optimizer, num_epochs, decay_epochs, init_lr, task)\u001b[0m\n\u001b[1;32m     27\u001b[0m             \u001b[0mpredictions\u001b[0m \u001b[0;34m=\u001b[0m \u001b[0mnet\u001b[0m\u001b[0;34m(\u001b[0m\u001b[0mimages\u001b[0m\u001b[0;34m)\u001b[0m\u001b[0;34m\u001b[0m\u001b[0;34m\u001b[0m\u001b[0m\n\u001b[1;32m     28\u001b[0m             \u001b[0mloss\u001b[0m \u001b[0;34m=\u001b[0m \u001b[0mcriterion\u001b[0m\u001b[0;34m(\u001b[0m\u001b[0mpredictions\u001b[0m\u001b[0;34m,\u001b[0m \u001b[0mlabels\u001b[0m\u001b[0;34m)\u001b[0m\u001b[0;34m\u001b[0m\u001b[0;34m\u001b[0m\u001b[0m\n\u001b[0;32m---> 29\u001b[0;31m             \u001b[0mloss\u001b[0m\u001b[0;34m.\u001b[0m\u001b[0mbackward\u001b[0m\u001b[0;34m(\u001b[0m\u001b[0;34m)\u001b[0m\u001b[0;34m\u001b[0m\u001b[0;34m\u001b[0m\u001b[0m\n\u001b[0m\u001b[1;32m     30\u001b[0m             \u001b[0moptimizer\u001b[0m\u001b[0;34m.\u001b[0m\u001b[0mstep\u001b[0m\u001b[0;34m(\u001b[0m\u001b[0;34m)\u001b[0m\u001b[0;34m\u001b[0m\u001b[0;34m\u001b[0m\u001b[0m\n\u001b[1;32m     31\u001b[0m             \u001b[0;31m#\u001b[0m\u001b[0;34m\u001b[0m\u001b[0;34m\u001b[0m\u001b[0m\n",
            "\u001b[0;32m/usr/local/lib/python3.10/dist-packages/torch/_tensor.py\u001b[0m in \u001b[0;36mbackward\u001b[0;34m(self, gradient, retain_graph, create_graph, inputs)\u001b[0m\n\u001b[1;32m    520\u001b[0m                 \u001b[0minputs\u001b[0m\u001b[0;34m=\u001b[0m\u001b[0minputs\u001b[0m\u001b[0;34m,\u001b[0m\u001b[0;34m\u001b[0m\u001b[0;34m\u001b[0m\u001b[0m\n\u001b[1;32m    521\u001b[0m             )\n\u001b[0;32m--> 522\u001b[0;31m         torch.autograd.backward(\n\u001b[0m\u001b[1;32m    523\u001b[0m             \u001b[0mself\u001b[0m\u001b[0;34m,\u001b[0m \u001b[0mgradient\u001b[0m\u001b[0;34m,\u001b[0m \u001b[0mretain_graph\u001b[0m\u001b[0;34m,\u001b[0m \u001b[0mcreate_graph\u001b[0m\u001b[0;34m,\u001b[0m \u001b[0minputs\u001b[0m\u001b[0;34m=\u001b[0m\u001b[0minputs\u001b[0m\u001b[0;34m\u001b[0m\u001b[0;34m\u001b[0m\u001b[0m\n\u001b[1;32m    524\u001b[0m         )\n",
            "\u001b[0;32m/usr/local/lib/python3.10/dist-packages/torch/autograd/__init__.py\u001b[0m in \u001b[0;36mbackward\u001b[0;34m(tensors, grad_tensors, retain_graph, create_graph, grad_variables, inputs)\u001b[0m\n\u001b[1;32m    264\u001b[0m     \u001b[0;31m# some Python versions print out the first line of a multi-line function\u001b[0m\u001b[0;34m\u001b[0m\u001b[0;34m\u001b[0m\u001b[0m\n\u001b[1;32m    265\u001b[0m     \u001b[0;31m# calls in the traceback and some print out the last line\u001b[0m\u001b[0;34m\u001b[0m\u001b[0;34m\u001b[0m\u001b[0m\n\u001b[0;32m--> 266\u001b[0;31m     Variable._execution_engine.run_backward(  # Calls into the C++ engine to run the backward pass\n\u001b[0m\u001b[1;32m    267\u001b[0m         \u001b[0mtensors\u001b[0m\u001b[0;34m,\u001b[0m\u001b[0;34m\u001b[0m\u001b[0;34m\u001b[0m\u001b[0m\n\u001b[1;32m    268\u001b[0m         \u001b[0mgrad_tensors_\u001b[0m\u001b[0;34m,\u001b[0m\u001b[0;34m\u001b[0m\u001b[0;34m\u001b[0m\u001b[0m\n",
            "\u001b[0;31mKeyboardInterrupt\u001b[0m: "
          ]
        }
      ],
      "source": [
        "train(net, criterion, optimizer, num_epochs=20, decay_epochs=10, init_lr=0.01, task='classification')"
      ]
    },
    {
      "cell_type": "code",
      "source": [
        "# Saving the model\n",
        "torch.save(net.state_dict(), \"model-weights/model-4-weights\")"
      ],
      "metadata": {
        "id": "pTMnc_pSjFhm"
      },
      "execution_count": null,
      "outputs": []
    },
    {
      "cell_type": "markdown",
      "metadata": {
        "id": "xjVTp9jhefTi"
      },
      "source": [
        "# Supervised training the randomly initialized model\n",
        "\n",
        "### Below, you'll randomly initialize a ResNet18 and train the whole model on the classification task."
      ]
    },
    {
      "cell_type": "code",
      "source": [
        "# Randomly initialize a ResNet18 and train the whole model on the classification task\n",
        "\n",
        "net = resnet18(pretrained=False)\n",
        "\n",
        "# Adding a fc layer with 10 classes at the end of the model\n",
        "num_classes = 10\n",
        "net.fc = nn.Linear(net.fc.in_features, num_classes)\n",
        "# Again, set the loss function and optimizer.\n",
        "criterion = nn.CrossEntropyLoss()\n",
        "optimizer = optim.Adam(net.parameters(), lr= 0.001)\n",
        "train(net, criterion, optimizer, num_epochs=20, decay_epochs=10, init_lr=0.01, task='classification')"
      ],
      "metadata": {
        "id": "rrxgXrvwr9HL"
      },
      "execution_count": null,
      "outputs": []
    },
    {
      "cell_type": "code",
      "execution_count": null,
      "metadata": {
        "id": "uEjy8TBieeLK"
      },
      "outputs": [],
      "source": [
        "import torch.nn as nn\n",
        "import torch.nn.functional as F\n",
        "\n",
        "from torchvision.models import resnet18\n",
        "\n",
        "# Randomly initialize the ResNet18 model\n",
        "net = resnet18(pretrained= False)\n",
        "\n",
        "# Adding a fc layer withh 10 classes at the end of the model\n",
        "num_classes = 10\n",
        "net.fc = nn.Linear(net.fc.in_features, num_classes)"
      ]
    },
    {
      "cell_type": "code",
      "execution_count": null,
      "metadata": {
        "id": "jEY90pK_0ZAm"
      },
      "outputs": [],
      "source": [
        "# Again, set the loss function and optimizer.\n",
        "criterion = nn.CrossEntropyLoss()\n",
        "optimizer = optim.Adam(net.parameters(), lr= 0.001)"
      ]
    },
    {
      "cell_type": "code",
      "execution_count": null,
      "metadata": {
        "id": "lMDwelhY0auO",
        "colab": {
          "base_uri": "https://localhost:8080/",
          "height": 495
        },
        "outputId": "58553f29-929d-4a73-b404-77282086ec85"
      },
      "outputs": [
        {
          "output_type": "stream",
          "name": "stdout",
          "text": [
            "Epoch number: 1\n",
            "[1,    10] loss: 3.450 acc: 9.38 time: 21.62\n",
            "[1,    20] loss: 2.634 acc: 14.22 time: 19.76\n",
            "[1,    30] loss: 2.307 acc: 18.83 time: 21.53\n",
            "[1,    40] loss: 2.264 acc: 20.08 time: 22.99\n",
            "[1,    50] loss: 2.192 acc: 22.66 time: 21.61\n",
            "[1,    60] loss: 2.103 acc: 23.52 time: 24.69\n",
            "[1,    70] loss: 2.076 acc: 27.27 time: 18.31\n",
            "[1,    80] loss: 2.006 acc: 30.86 time: 21.93\n",
            "[1,    90] loss: 2.080 acc: 25.08 time: 19.44\n",
            "[1,   100] loss: 1.905 acc: 29.38 time: 20.37\n"
          ]
        },
        {
          "output_type": "error",
          "ename": "KeyboardInterrupt",
          "evalue": "",
          "traceback": [
            "\u001b[0;31m---------------------------------------------------------------------------\u001b[0m",
            "\u001b[0;31mKeyboardInterrupt\u001b[0m                         Traceback (most recent call last)",
            "\u001b[0;32m<ipython-input-85-202982955ceb>\u001b[0m in \u001b[0;36m<cell line: 1>\u001b[0;34m()\u001b[0m\n\u001b[0;32m----> 1\u001b[0;31m \u001b[0mtrain\u001b[0m\u001b[0;34m(\u001b[0m\u001b[0mnet\u001b[0m\u001b[0;34m,\u001b[0m \u001b[0mcriterion\u001b[0m\u001b[0;34m,\u001b[0m \u001b[0moptimizer\u001b[0m\u001b[0;34m,\u001b[0m \u001b[0mnum_epochs\u001b[0m\u001b[0;34m=\u001b[0m\u001b[0;36m20\u001b[0m\u001b[0;34m,\u001b[0m \u001b[0mdecay_epochs\u001b[0m\u001b[0;34m=\u001b[0m\u001b[0;36m10\u001b[0m\u001b[0;34m,\u001b[0m \u001b[0minit_lr\u001b[0m\u001b[0;34m=\u001b[0m\u001b[0;36m0.01\u001b[0m\u001b[0;34m,\u001b[0m \u001b[0mtask\u001b[0m\u001b[0;34m=\u001b[0m\u001b[0;34m'classification'\u001b[0m\u001b[0;34m)\u001b[0m\u001b[0;34m\u001b[0m\u001b[0;34m\u001b[0m\u001b[0m\n\u001b[0m",
            "\u001b[0;32m<ipython-input-77-c55041416581>\u001b[0m in \u001b[0;36mtrain\u001b[0;34m(net, criterion, optimizer, num_epochs, decay_epochs, init_lr, task)\u001b[0m\n\u001b[1;32m     27\u001b[0m             \u001b[0mpredictions\u001b[0m \u001b[0;34m=\u001b[0m \u001b[0mnet\u001b[0m\u001b[0;34m(\u001b[0m\u001b[0mimages\u001b[0m\u001b[0;34m)\u001b[0m\u001b[0;34m\u001b[0m\u001b[0;34m\u001b[0m\u001b[0m\n\u001b[1;32m     28\u001b[0m             \u001b[0mloss\u001b[0m \u001b[0;34m=\u001b[0m \u001b[0mcriterion\u001b[0m\u001b[0;34m(\u001b[0m\u001b[0mpredictions\u001b[0m\u001b[0;34m,\u001b[0m \u001b[0mlabels\u001b[0m\u001b[0;34m)\u001b[0m\u001b[0;34m\u001b[0m\u001b[0;34m\u001b[0m\u001b[0m\n\u001b[0;32m---> 29\u001b[0;31m             \u001b[0mloss\u001b[0m\u001b[0;34m.\u001b[0m\u001b[0mbackward\u001b[0m\u001b[0;34m(\u001b[0m\u001b[0;34m)\u001b[0m\u001b[0;34m\u001b[0m\u001b[0;34m\u001b[0m\u001b[0m\n\u001b[0m\u001b[1;32m     30\u001b[0m             \u001b[0moptimizer\u001b[0m\u001b[0;34m.\u001b[0m\u001b[0mstep\u001b[0m\u001b[0;34m(\u001b[0m\u001b[0;34m)\u001b[0m\u001b[0;34m\u001b[0m\u001b[0;34m\u001b[0m\u001b[0m\n\u001b[1;32m     31\u001b[0m             \u001b[0;31m#\u001b[0m\u001b[0;34m\u001b[0m\u001b[0;34m\u001b[0m\u001b[0m\n",
            "\u001b[0;32m/usr/local/lib/python3.10/dist-packages/torch/_tensor.py\u001b[0m in \u001b[0;36mbackward\u001b[0;34m(self, gradient, retain_graph, create_graph, inputs)\u001b[0m\n\u001b[1;32m    520\u001b[0m                 \u001b[0minputs\u001b[0m\u001b[0;34m=\u001b[0m\u001b[0minputs\u001b[0m\u001b[0;34m,\u001b[0m\u001b[0;34m\u001b[0m\u001b[0;34m\u001b[0m\u001b[0m\n\u001b[1;32m    521\u001b[0m             )\n\u001b[0;32m--> 522\u001b[0;31m         torch.autograd.backward(\n\u001b[0m\u001b[1;32m    523\u001b[0m             \u001b[0mself\u001b[0m\u001b[0;34m,\u001b[0m \u001b[0mgradient\u001b[0m\u001b[0;34m,\u001b[0m \u001b[0mretain_graph\u001b[0m\u001b[0;34m,\u001b[0m \u001b[0mcreate_graph\u001b[0m\u001b[0;34m,\u001b[0m \u001b[0minputs\u001b[0m\u001b[0;34m=\u001b[0m\u001b[0minputs\u001b[0m\u001b[0;34m\u001b[0m\u001b[0;34m\u001b[0m\u001b[0m\n\u001b[1;32m    524\u001b[0m         )\n",
            "\u001b[0;32m/usr/local/lib/python3.10/dist-packages/torch/autograd/__init__.py\u001b[0m in \u001b[0;36mbackward\u001b[0;34m(tensors, grad_tensors, retain_graph, create_graph, grad_variables, inputs)\u001b[0m\n\u001b[1;32m    264\u001b[0m     \u001b[0;31m# some Python versions print out the first line of a multi-line function\u001b[0m\u001b[0;34m\u001b[0m\u001b[0;34m\u001b[0m\u001b[0m\n\u001b[1;32m    265\u001b[0m     \u001b[0;31m# calls in the traceback and some print out the last line\u001b[0m\u001b[0;34m\u001b[0m\u001b[0;34m\u001b[0m\u001b[0m\n\u001b[0;32m--> 266\u001b[0;31m     Variable._execution_engine.run_backward(  # Calls into the C++ engine to run the backward pass\n\u001b[0m\u001b[1;32m    267\u001b[0m         \u001b[0mtensors\u001b[0m\u001b[0;34m,\u001b[0m\u001b[0;34m\u001b[0m\u001b[0;34m\u001b[0m\u001b[0m\n\u001b[1;32m    268\u001b[0m         \u001b[0mgrad_tensors_\u001b[0m\u001b[0;34m,\u001b[0m\u001b[0;34m\u001b[0m\u001b[0;34m\u001b[0m\u001b[0m\n",
            "\u001b[0;31mKeyboardInterrupt\u001b[0m: "
          ]
        }
      ],
      "source": [
        "train(net, criterion, optimizer, num_epochs=20, decay_epochs=10, init_lr=0.01, task='classification')"
      ]
    },
    {
      "cell_type": "code",
      "source": [
        "# Saving the model\n",
        "torch.save(net.state_dict(), \"model-weights/model-5-weights\")"
      ],
      "metadata": {
        "id": "k4tmhGmDjHwU"
      },
      "execution_count": null,
      "outputs": []
    }
  ],
  "metadata": {
    "colab": {
      "provenance": []
    },
    "kernelspec": {
      "display_name": "Python 3",
      "name": "python3"
    },
    "language_info": {
      "codemirror_mode": {
        "name": "ipython",
        "version": 3
      },
      "file_extension": ".py",
      "mimetype": "text/x-python",
      "name": "python",
      "nbconvert_exporter": "python",
      "pygments_lexer": "ipython3",
      "version": "3.10.9"
    },
    "accelerator": "TPU"
  },
  "nbformat": 4,
  "nbformat_minor": 0
}